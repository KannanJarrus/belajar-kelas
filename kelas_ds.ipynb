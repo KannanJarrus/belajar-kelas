{
 "cells": [
  {
   "cell_type": "code",
   "execution_count": 2,
   "id": "8598b751-09d0-4faa-96f1-8eafa73d09df",
   "metadata": {},
   "outputs": [],
   "source": [
    "import pandas as pd\n",
    "import numpy as np"
   ]
  },
  {
   "cell_type": "code",
   "execution_count": 4,
   "id": "646a546a-019a-416b-9f60-83657b4a3a2e",
   "metadata": {},
   "outputs": [
    {
     "name": "stdout",
     "output_type": "stream",
     "text": [
      "Berhasil belajar git clone\n",
      "berhasil melakukan clone dari github\n"
     ]
    }
   ],
   "source": [
    "print('Berhasil belajar git clone')\n",
    "print('berhasil melakukan clone dari github')"
   ]
  },
  {
   "cell_type": "code",
   "execution_count": null,
   "id": "f7bf6088-d480-412c-8e41-92230ddba5a0",
   "metadata": {},
   "outputs": [],
   "source": []
  }
 ],
 "metadata": {
  "kernelspec": {
   "display_name": "Python [conda env:base] *",
   "language": "python",
   "name": "conda-base-py"
  },
  "language_info": {
   "codemirror_mode": {
    "name": "ipython",
    "version": 3
   },
   "file_extension": ".py",
   "mimetype": "text/x-python",
   "name": "python",
   "nbconvert_exporter": "python",
   "pygments_lexer": "ipython3",
   "version": "3.12.3"
  }
 },
 "nbformat": 4,
 "nbformat_minor": 5
}
